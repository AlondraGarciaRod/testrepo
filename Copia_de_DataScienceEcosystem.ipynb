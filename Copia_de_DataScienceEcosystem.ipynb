{
  "cells": [
    {
      "cell_type": "markdown",
      "id": "10a24020-2b39-4566-8823-be3546149746",
      "metadata": {
        "id": "10a24020-2b39-4566-8823-be3546149746"
      },
      "source": [
        "# Data Science Tools and Ecosystem\n",
        "    "
      ]
    },
    {
      "cell_type": "markdown",
      "id": "ff2185dc-848a-400e-bdc9-486473fb2942",
      "metadata": {
        "id": "ff2185dc-848a-400e-bdc9-486473fb2942"
      },
      "source": [
        "# In this notebook, Data Science Tools and Ecosystem are summarized.\n"
      ]
    },
    {
      "cell_type": "markdown",
      "id": "bf7d4f5d-9ce6-4326-8d65-8c7b572bcc22",
      "metadata": {
        "id": "bf7d4f5d-9ce6-4326-8d65-8c7b572bcc22"
      },
      "source": [
        "**Objectives:**\n",
        "\n",
        "- List popular languages for Data Science\n",
        "- List libraries used in Data Science\n",
        "- Create a table of Data Science tools\n",
        "- Execute simple arithmetic expressions\n",
        "\n"
      ]
    },
    {
      "cell_type": "markdown",
      "id": "d3ac01d5-75f8-4c4c-890f-868db1221893",
      "metadata": {
        "id": "d3ac01d5-75f8-4c4c-890f-868db1221893"
      },
      "source": [
        "Some of the popular languages that Data Scientists use are:\n",
        "\n",
        "1. Python\n",
        "2. R\n",
        "3. SQL\n",
        "4. Scala\n"
      ]
    },
    {
      "cell_type": "markdown",
      "id": "7cad3599-fcdf-47de-b236-29f29ee7d104",
      "metadata": {
        "id": "7cad3599-fcdf-47de-b236-29f29ee7d104"
      },
      "source": [
        "Some of the commonly used libraries used by Data Scientists include:\n",
        "1. Pandas\n",
        "2. NumPy\n",
        "3. Matplotlib\n",
        "4. Scikit-learn\n"
      ]
    },
    {
      "cell_type": "markdown",
      "id": "619bf840-c146-4e40-8dc1-5fbc679a7aa4",
      "metadata": {
        "id": "619bf840-c146-4e40-8dc1-5fbc679a7aa4"
      },
      "source": [
        "| Herramientas de Ciencia de Datos |\n",
        "|----------------------------------|\n",
        "| Jupyter Notebooks                |\n",
        "| RStudio                          |\n",
        "| Apache Zeppelin                  |\n"
      ]
    },
    {
      "cell_type": "markdown",
      "id": "1c4831c4-30f1-4b71-9382-4eded581dc0b",
      "metadata": {
        "id": "1c4831c4-30f1-4b71-9382-4eded581dc0b"
      },
      "source": [
        "Below are a few examples of evaluating arithmetic expressions in Python"
      ]
    },
    {
      "cell_type": "code",
      "execution_count": null,
      "id": "a6256a17-8401-4c0c-9d6e-ad1d88466adb",
      "metadata": {
        "id": "a6256a17-8401-4c0c-9d6e-ad1d88466adb",
        "outputId": "b41d85b4-b161-4675-8868-1a89c97163a9"
      },
      "outputs": [
        {
          "data": {
            "text/plain": [
              "17"
            ]
          },
          "execution_count": 1,
          "metadata": {},
          "output_type": "execute_result"
        }
      ],
      "source": [
        "# Esta es una expresión aritmética simple para multiplicar y luego sumar enteros\n",
        "result = (3 * 4) + 5\n",
        "result\n"
      ]
    },
    {
      "cell_type": "code",
      "execution_count": null,
      "id": "f28e5268-24a1-4c37-96ea-4bb71cecf00f",
      "metadata": {
        "id": "f28e5268-24a1-4c37-96ea-4bb71cecf00f",
        "outputId": "8e9d247a-5d9b-4c49-9aaa-532c477d71fb"
      },
      "outputs": [
        {
          "data": {
            "text/plain": [
              "3.3333333333333335"
            ]
          },
          "execution_count": 2,
          "metadata": {},
          "output_type": "execute_result"
        }
      ],
      "source": [
        "# Esto convertirá 200 minutos a horas dividiendo por 60\n",
        "minutes = 200\n",
        "hours = minutes / 60\n",
        "hours\n"
      ]
    },
    {
      "cell_type": "markdown",
      "id": "85566a0e-d0b1-4fa5-9713-40d532fe0b0a",
      "metadata": {
        "id": "85566a0e-d0b1-4fa5-9713-40d532fe0b0a"
      },
      "source": [
        "## Autor\n",
        "Alondra Garcia Rodriguez"
      ]
    },
    {
      "cell_type": "code",
      "execution_count": null,
      "id": "2e342731-e8ad-45d4-8fdd-559d77756c1e",
      "metadata": {
        "id": "2e342731-e8ad-45d4-8fdd-559d77756c1e"
      },
      "outputs": [],
      "source": []
    },
    {
      "cell_type": "code",
      "execution_count": null,
      "id": "a8cd0c03-c627-45b4-8258-796b01ed1fc3",
      "metadata": {
        "id": "a8cd0c03-c627-45b4-8258-796b01ed1fc3"
      },
      "outputs": [],
      "source": []
    }
  ],
  "metadata": {
    "kernelspec": {
      "display_name": "Python 3 (ipykernel)",
      "language": "python",
      "name": "python3"
    },
    "language_info": {
      "codemirror_mode": {
        "name": "ipython",
        "version": 3
      },
      "file_extension": ".py",
      "mimetype": "text/x-python",
      "name": "python",
      "nbconvert_exporter": "python",
      "pygments_lexer": "ipython3",
      "version": "3.12.5"
    },
    "colab": {
      "provenance": []
    }
  },
  "nbformat": 4,
  "nbformat_minor": 5
}